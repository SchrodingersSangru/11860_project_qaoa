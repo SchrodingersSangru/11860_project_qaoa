{
 "cells": [
  {
   "cell_type": "markdown",
   "metadata": {},
   "source": [
    "# Solving Max-Cut problem using Dwave Quantum Annealing\n",
    "This notebook presents how to solve the NP-hard problem Max-Cut using Quantum Annealing.\n",
    "In Quantum Annealing, we specify a Quadratic Uncontrained Binary Optimization (QUBO) model that is implemented as the final Hamiltonian in an plausible adiabatic evolution.\n",
    "A QUBO can be expressed as\n",
    "$$ (QUBO) \\min_{\\bf{x}} \\sum_{i,j}^n Q_{ij}x_i x_j + \\sum_{i}^n Q_{ii}_i x_i, \\bf{x} \\in \\{0,1\\}^n\n",
    "$$\n",
    "\n",
    "Besides the many appplications of this formalism, solving a general QUBO is NP-hard.\n",
    "\n",
    "where we minimize an quadratic expression with respect to an $n$-dimensional vector of binary variables $\\bf{x}$, the matrix $Q$ determines the quadratic and linear part of the QUBO. Notice that in this case we separate the elements of the diagonal of $Q$ given the fact that $x_i^2 = x_i, x_i \\in \\{0,1\\}$. NWe can define a graph $G = (V,E)$ such that we have a vertex for every binary variable and include an edge for each non-zero term in $Q$ (technically speaking the boolean matrix of $Q$ is the adjacency matrix of $G$).\n",
    "\n",
    "This QUBO can be easily transformed to a well-studies problem in Physics, the Ising model. In the Ising model, we represent the energy of paramagnetic materials by assuming that each particle of the system $i$ has a corresponding spin (measured along the $Z$ axis) $\\sigma_i^Z \\in \\{+1,-1\\}$. These particles interact with their immediate neighbors in a graph $G = (V,E)$ and are subject to an external magnetic field that interacts with each particle by accounting for an energy $\\pm h_i$. The interaction with other particles can lead to an increase of the total energy if their spins are oriented in the same direction ($J_{ij} > 0$, ferromagnetic), or in the opposite direction ($J_{ij} < 0$, antiferromagnetic). The function that accounts for the total energy of the system is known as the Hamiltonian $H_f$.\n",
    "$$  H_f = \\sum_{(ij) \\in E}J_{ij}\\sigma_i^Z \\sigma_j^Z + \\sum_{i \\in V} h_i \\sigma_i^Z\n",
    "$$\n",
    "\n",
    "Using the transformation $\\sigma_i^Z = 1 - 2x_i$ and the corresponding tranformations for the matrices $Q$ and $J$ and vector $h$ we obtain the Hamiltonian from the original QUBO ."
   ]
  },
  {
   "cell_type": "markdown",
   "metadata": {},
   "source": [
    "The Dwave devices start from an initial Hamiltonian $H_i$ and drive a time evolution to the final Hamiltonian $H_f$ slowly enough such that at every time step, represented by the adimensional time $s=t/T$ where $T$ is the total time, the system remains at its ground state, minimizing its energy. The energy of the system is described then as \n",
    "$$ H(s) = A(s)H_i + B(s)H_f\n",
    "$$\n",
    "\n",
    "Where $A(s)$ and $B(s)$ are time functions such that $A(0)=B(1)=1$ and $A(1)=B(0)=0$ (in practice we just need $A(0)/B(0) >> 1$ and $B(1)/A(1) >> 1$).\n",
    "\n",
    "Usually the initial Hamiltonian is defined such that its ground state is a total superposition, and the usual choice is having\n",
    "$$ H_i = \\sum_{i=1}^n \\sigma_i^X\n",
    "$$\n",
    "\n",
    "This procedure allows that at the end of the annealing procedure $s=1$, the ground state of $H_f$ is obtained. If that is the case and $H_f$ represents our $(QUBO)$ we would solve the optimization problem. Quantum Annealing offers an analog implementation of this algorithm, and uses niobium superconducting quantum interference device (SQUID) to implement the spins as qubits. Practically speaking, the Quantum Annealing can be considered as a metaheuristic for solving combinatorial optimization problems by translating them into constrained Ising problems. Whether this method actually takes advantage of quantum mechanics is still debated."
   ]
  },
  {
   "cell_type": "markdown",
   "metadata": {},
   "source": [
    "## Max-cut\n",
    "The Max-cut problem, which is a combinatorial optimization problem deals with finding the largest cut of a graph $G = (V,E)$, where each edge has a weight $w_{ij}, \\forall (ij) \\in E$. The cut of a graph is defined as a separation of the vertices of the graph, and its value is the sum of the edges weights that are crossed by the cut.\n",
    "\n",
    "A simple formulation of this problem can be proposed using binary variables $s_i \\in \\{+1,-1\\}, \\forall i \\in V$ that represent whether each vertex belong to one side ($V^+$) or the other ($V^-$) of the cut.\n",
    "In that case, to maximize the cut's value we maximize the number of edges that connect the two set of vertices $\\delta(V^+)$.\n",
    "$$ C = \\sum_{(i,j) \\in \\delta(V^+)} (-1)w_{ij}s_i s_j\n",
    "$$\n",
    "where we include the term $s_i s_j$ that is $-1$ if the cut crosses the edge between $V^+$ and $V^-$ times a sign correction.\n",
    "Since there is no way that we can know the set $\\delta(V^+)$ a priori, we add the weights times the spins for all edges in the graph.\n",
    "$$ \\sum_{(i,j) \\in E} w_{ij}s_i s_j = \\\\\n",
    "\\qquad \\sum_{(i,j) \\in E(V^+)}w_{ij} + \\sum_{(i,j) \\in E(V^+)}w_{ij} - \\sum_{(i,j) \\in \\delta(V^+)} w_{ij}s_i s_j = \\\\\n",
    "\\qquad \\qquad \\sum_{(i,j) \\in E}w_{ij} - 2\\sum_{(i,j) \\in \\delta(V^+)} w_{ij}s_i s_j\n",
    "$$\n",
    "There is and offset given by the weights of the edges belonging to the same set. Writing the full optimization problem we have:\n",
    "$$ C_{max} = \\max_{\\bf{s} \\in \\{+1,-1\\}^n} \\frac{1}{2} \\sum_{(i,j) \\in E} w_{ij}(1 - s_i s_j) = \\\\\n",
    "\\qquad \\frac{1}{2} \\left( \\sum_{(i,j) \\in E} w_{ij} + \\min_{\\bf{s} \\in \\{+1,-1\\}^n}  \\sum_{(i,j) \\in E} w_{ij}s_i s_j \\right)\n",
    "$$"
   ]
  },
  {
   "cell_type": "markdown",
   "metadata": {},
   "source": [
    "From the description above, we can observe that the Max-cut has a direct relationship with the Ising model. In this case, there is no external field $h$ and the coefficients of $J$ are the weights of the given graph.\n",
    "Now we can solve the Max-cut problem via the Ising model."
   ]
  },
  {
   "cell_type": "code",
   "execution_count": 6,
   "metadata": {},
   "outputs": [],
   "source": [
    "import networkx as nx\n",
    "import dimod\n",
    "import matplotlib.pyplot as plt"
   ]
  },
  {
   "cell_type": "code",
   "execution_count": 11,
   "metadata": {},
   "outputs": [],
   "source": [
    "# Define exact solver for small cases\n",
    "exact_sampler = dimod.reference.samplers.ExactSolver()\n",
    "# Simmulated annealing code (this will be considered the \"simulator\")\n",
    "sim_ann = dimod.SimulatedAnnealingSampler()\n",
    "# Dwave device\n",
    "from dwave.system.composites import EmbeddingComposite\n",
    "from dwave.system.samplers import DWaveSampler\n",
    "sampler = EmbeddingComposite(DWaveSampler())"
   ]
  },
  {
   "cell_type": "markdown",
   "metadata": {},
   "source": [
    "### First example\n",
    "Degree 2 graph (famous because was first instance that Fhari worked with for QAOA)"
   ]
  },
  {
   "cell_type": "code",
   "execution_count": 9,
   "metadata": {},
   "outputs": [
    {
     "data": {
      "image/png": "[encoded data removed]",
      "text/plain": [
       "<Figure size 432x288 with 1 Axes>"
      ]
     },
     "metadata": {},
     "output_type": "display_data"
    }
   ],
   "source": [
    "E1     =[(0,1,1.0),(1,2,1.0),(2,3,1.0),(3,0,1.0)] \n",
    "\n",
    "G1     = nx.Graph()\n",
    "G1.add_weighted_edges_from(E1)\n",
    "\n",
    "# Generate plot of the Graph\n",
    "default_axes = plt.axes(frameon=True)\n",
    "pos          = nx.spring_layout(G1)\n",
    "\n",
    "nx.draw_networkx(G1, node_size=600, alpha=1, ax=default_axes, pos=pos)"
   ]
  },
  {
   "cell_type": "code",
   "execution_count": 12,
   "metadata": {},
   "outputs": [],
   "source": [
    "# Define Ising problem parameters\n",
    "def ising_maxcut(G):\n",
    "    '''\n",
    "    G is a NetworkX graph\n",
    "    '''\n",
    "    h = {v: 0. for v in G.nodes()}\n",
    "    J = {(u, v): 1 for u, v in G.edges}\n",
    "    return h,J"
   ]
  },
  {
   "cell_type": "code",
   "execution_count": 16,
   "metadata": {},
   "outputs": [
    {
     "data": {
      "text/plain": [
       "SampleSet(rec.array([([-1, -1, -1, -1],  4., 1), ([ 1, -1, -1, -1],  0., 1),\n",
       "           ([ 1,  1, -1, -1],  0., 1), ([-1,  1, -1, -1],  0., 1),\n",
       "           ([-1,  1,  1, -1],  0., 1), ([ 1,  1,  1, -1],  0., 1),\n",
       "           ([ 1, -1,  1, -1], -4., 1), ([-1, -1,  1, -1],  0., 1),\n",
       "           ([-1, -1,  1,  1],  0., 1), ([ 1, -1,  1,  1],  0., 1),\n",
       "           ([ 1,  1,  1,  1],  4., 1), ([-1,  1,  1,  1],  0., 1),\n",
       "           ([-1,  1, -1,  1], -4., 1), ([ 1,  1, -1,  1],  0., 1),\n",
       "           ([ 1, -1, -1,  1],  0., 1), ([-1, -1, -1,  1],  0., 1)],\n",
       "          dtype=[('sample', 'i1', (4,)), ('energy', '<f8'), ('num_occurrences', '<i4')]), [0, 1, 2, 3], {}, 'SPIN')"
      ]
     },
     "execution_count": 16,
     "metadata": {},
     "output_type": "execute_result"
    }
   ],
   "source": [
    "h, J = ising_maxcut(G1)\n",
    "exact_sampler.sample_ising(h, J)"
   ]
  },
  {
   "cell_type": "code",
   "execution_count": null,
   "metadata": {},
   "outputs": [],
   "source": [
    "G     = nx.Graph()\n",
    "G.add_nodes_from(V)\n",
    "G.add_weighted_edges_from(E)\n",
    "\n",
    "# Generate plot of the Graph\n",
    "colors       = ['r' for node in G.nodes()]\n",
    "default_axes = plt.axes(frameon=True)\n",
    "pos          = nx.spring_layout(G)\n",
    "\n",
    "nx.draw_networkx(G, node_color=colors, node_size=600, alpha=1, ax=default_axes, pos=pos)"
   ]
  }
 ],
 "metadata": {
  "kernelspec": {
   "display_name": "Python 3",
   "language": "python",
   "name": "python3"
  },
  "language_info": {
   "codemirror_mode": {
    "name": "ipython",
    "version": 3
   },
   "file_extension": ".py",
   "mimetype": "text/x-python",
   "name": "python",
   "nbconvert_exporter": "python",
   "pygments_lexer": "ipython3",
   "version": "3.7.1"
  }
 },
 "nbformat": 4,
 "nbformat_minor": 2
}
